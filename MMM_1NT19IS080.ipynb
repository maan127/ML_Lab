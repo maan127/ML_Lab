{
 "cells": [
  {
   "cell_type": "code",
   "execution_count": 1,
   "id": "13172c36",
   "metadata": {},
   "outputs": [
    {
     "name": "stdout",
     "output_type": "stream",
     "text": [
      "5.5\n"
     ]
    }
   ],
   "source": [
    "#mean\n",
    "def mean(arr):\n",
    "    sum=0\n",
    "    for i in range(len(arr)):\n",
    "        sum=sum+arr[i]\n",
    "    return sum/len(arr)\n",
    "arr=[1,2,3,4,5,6,7,8,9,10]\n",
    "print(mean(arr))"
   ]
  },
  {
   "cell_type": "code",
   "execution_count": 2,
   "id": "2fd156ea",
   "metadata": {},
   "outputs": [
    {
     "name": "stdout",
     "output_type": "stream",
     "text": [
      "5\n"
     ]
    }
   ],
   "source": [
    "#median\n",
    "def median(arr):\n",
    "    n=len(arr)\n",
    "    if len(arr)%2==0:\n",
    "        return arr[int(n/2)-1]\n",
    "    else:\n",
    "        return arr[int(n/2)] \n",
    "arr=[1,3,5,7,8,9]\n",
    "print(median(arr))\n",
    "\n"
   ]
  },
  {
   "cell_type": "code",
   "execution_count": 3,
   "id": "6e6cc421",
   "metadata": {},
   "outputs": [
    {
     "name": "stdout",
     "output_type": "stream",
     "text": [
      "{2: 1, 3: 1, 4: 1, 5: 2, 6: 4}\n",
      "4 6\n"
     ]
    }
   ],
   "source": [
    "#mode\n",
    "def mode(arr):\n",
    "    a=dict()\n",
    "    for i in arr:\n",
    "        if i in a:\n",
    "            a[i]+=1\n",
    "        else:\n",
    "            a[i]=1\n",
    "    print(a)\n",
    "    max=0\n",
    "    ele=0\n",
    "    for i in a:\n",
    "        if a[i]>max:\n",
    "            max=a[i]\n",
    "            ele=i\n",
    "    print(max,ele)\n",
    "arr=[2,3,4,5,5,6,6,6,6]\n",
    "mode(arr)"
   ]
  },
  {
   "cell_type": "code",
   "execution_count": 4,
   "id": "dcc8229a",
   "metadata": {},
   "outputs": [
    {
     "name": "stdout",
     "output_type": "stream",
     "text": [
      "2.0\n"
     ]
    }
   ],
   "source": [
    "#var\n",
    "def var(arr):\n",
    "    sum=0\n",
    "    for i in range(len(arr)):\n",
    "        sum=sum+arr[i]\n",
    "    mean=sum/len(arr)\n",
    "    var=0\n",
    "    for i in arr:\n",
    "        var+=(mean-i)**2\n",
    "    return var/len(arr)\n",
    "arr=[1,2,3,4,5]\n",
    "print(var(arr))"
   ]
  },
  {
   "cell_type": "code",
   "execution_count": 5,
   "id": "50486f72",
   "metadata": {},
   "outputs": [
    {
     "name": "stdout",
     "output_type": "stream",
     "text": [
      "1.4142135623730951\n"
     ]
    }
   ],
   "source": [
    "#sd\n",
    "def sd(arr):\n",
    "    sum=0\n",
    "    for i in range(len(arr)):\n",
    "        sum=sum+arr[i]\n",
    "    mean=sum/len(arr)\n",
    "    var=0\n",
    "    for i in arr:\n",
    "        var+=(mean-i)**2\n",
    "    return (var/len(arr))**0.5\n",
    "arr=[1,2,3,4,5]\n",
    "print(sd(arr))"
   ]
  },
  {
   "cell_type": "code",
   "execution_count": 6,
   "id": "c299a263",
   "metadata": {},
   "outputs": [
    {
     "name": "stdout",
     "output_type": "stream",
     "text": [
      "[0.0, 0.25, 0.5, 0.75, 1.0]\n"
     ]
    }
   ],
   "source": [
    "#normalization\n",
    "def nor(arr):\n",
    "    a=[]\n",
    "    for i in range(len(arr)):\n",
    "        sum=(arr[i]-min(arr))/(max(arr)-min(arr))\n",
    "        a.append(sum)\n",
    "    return a\n",
    "arr=[10,20,30,40,50]\n",
    "print(nor(arr))"
   ]
  },
  {
   "cell_type": "code",
   "execution_count": 7,
   "id": "feb4a585",
   "metadata": {},
   "outputs": [
    {
     "name": "stdout",
     "output_type": "stream",
     "text": [
      "[-1.414213562373095, -0.7071067811865475, 0.0, 0.7071067811865475, 1.414213562373095]\n"
     ]
    }
   ],
   "source": [
    "#standardization\n",
    "def stdz(arr):\n",
    "    a=[]\n",
    "    for i in range(len(arr)):\n",
    "        sum=(arr[i]-mean(arr))/sd(arr)\n",
    "        a.append(sum)\n",
    "    return a\n",
    "arr=[10,20,30,40,50]\n",
    "print(stdz(arr))"
   ]
  },
  {
   "cell_type": "code",
   "execution_count": 8,
   "id": "1d6f94d1",
   "metadata": {},
   "outputs": [
    {
     "data": {
      "text/plain": [
       "1.118033988749895"
      ]
     },
     "execution_count": 8,
     "metadata": {},
     "output_type": "execute_result"
    }
   ],
   "source": [
    "a=[1,2,3,4]\n",
    "sd(a)\n"
   ]
  },
  {
   "cell_type": "code",
   "execution_count": null,
   "id": "346ed235",
   "metadata": {},
   "outputs": [],
   "source": []
  }
 ],
 "metadata": {
  "kernelspec": {
   "display_name": "Python 3 (ipykernel)",
   "language": "python",
   "name": "python3"
  },
  "language_info": {
   "codemirror_mode": {
    "name": "ipython",
    "version": 3
   },
   "file_extension": ".py",
   "mimetype": "text/x-python",
   "name": "python",
   "nbconvert_exporter": "python",
   "pygments_lexer": "ipython3",
   "version": "3.10.6"
  }
 },
 "nbformat": 4,
 "nbformat_minor": 5
}
