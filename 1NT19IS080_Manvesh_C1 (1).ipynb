{
 "cells": [
  {
   "cell_type": "code",
   "execution_count": 8,
   "metadata": {},
   "outputs": [
    {
     "name": "stdout",
     "output_type": "stream",
     "text": [
      "MEAN: 49.44444444444444\n"
     ]
    }
   ],
   "source": [
    "#mean\n",
    "def mean(list):\n",
    "    sum=0\n",
    "    for i in list:\n",
    "        sum = sum+i\n",
    "    mean = sum/len(list)\n",
    "    return mean\n",
    "list=(50,60,70,80,90,10,11,33,41)\n",
    "print(\"MEAN:\",mean(list))"
   ]
  },
  {
   "cell_type": "code",
   "execution_count": 10,
   "metadata": {},
   "outputs": [
    {
     "name": "stdout",
     "output_type": "stream",
     "text": [
      "MEDIAN : 9.1\n"
     ]
    }
   ],
   "source": [
    "#median\n",
    "def median(l1):\n",
    "    i=int(len(l1)/2)\n",
    "    if i%2==0:\n",
    "        res=(l1[i]+l1[i+1])\n",
    "    else:\n",
    "        res=l1[i]\n",
    "    return res\n",
    "l1=[110,100,80,10,5.1,4,3,2.5,10.1]\n",
    "print(\"MEDIAN :\",median(l1))"
   ]
  },
  {
   "cell_type": "code",
   "execution_count": 13,
   "metadata": {},
   "outputs": [
    {
     "name": "stdout",
     "output_type": "stream",
     "text": [
      "MODE : 110.3\n"
     ]
    }
   ],
   "source": [
    "#mode\n",
    "l1 = [110.3,100,30,41.44,30.3,10]\n",
    "d={}\n",
    "for i in l1:\n",
    "    if i in d:\n",
    "        d[i]=d[i]+1\n",
    "    else:\n",
    "        d[i]=1\n",
    "maxi=0\n",
    "for i in d:\n",
    "    if(d[i]>maxi):\n",
    "        maxi=d[i]\n",
    "        ans=i\n",
    "print(\"MODE :\" ,ans)"
   ]
  },
  {
   "cell_type": "code",
   "execution_count": 18,
   "metadata": {},
   "outputs": [
    {
     "name": "stdout",
     "output_type": "stream",
     "text": [
      "VARIANCE : 670.6734693877552\n"
     ]
    }
   ],
   "source": [
    "#variance\n",
    "def var(l):\n",
    "    ans = mean(l)\n",
    "    sum1=0\n",
    "    for i in l:\n",
    "        sum1+=(ans-i)**2\n",
    "    return sum1/len(l)\n",
    "l=[80,10,5.1,43,3,20.5,10.1]\n",
    "print(\"VARIANCE :\" ,var(l))\n"
   ]
  },
  {
   "cell_type": "code",
   "execution_count": 20,
   "metadata": {},
   "outputs": [
    {
     "name": "stdout",
     "output_type": "stream",
     "text": [
      "STANDARD DEVIATION : 25.897364139768264\n"
     ]
    }
   ],
   "source": [
    "#standard deviation\n",
    "def sd(l):\n",
    "    temp=var(l)\n",
    "    return temp**0.5\n",
    "a=[80,10,5.1,43,3,20.5,10.1]\n",
    "print(\"STANDARD DEVIATION :\" ,sd(a))\n"
   ]
  },
  {
   "cell_type": "code",
   "execution_count": 2,
   "metadata": {},
   "outputs": [
    {
     "data": {
      "text/plain": [
       "[1.0, 1.25, 1.5, 1.75, 2.0]"
      ]
     },
     "execution_count": 2,
     "metadata": {},
     "output_type": "execute_result"
    }
   ],
   "source": [
    "#normalisation\n",
    "def nor(a):\n",
    "    b=[]\n",
    "    for i in range(len(a)):\n",
    "        sum=((a[i]-min(a))/(max(a)-min(a)))+min(a)\n",
    "        b.append(sum)\n",
    "    return b\n",
    "a=[1,2,3,4,5]\n",
    "nor(a)\n"
   ]
  },
  {
   "cell_type": "code",
   "execution_count": null,
   "metadata": {},
   "outputs": [],
   "source": []
  }
 ],
 "metadata": {
  "kernelspec": {
   "display_name": "Python 3",
   "language": "python",
   "name": "python3"
  },
  "language_info": {
   "codemirror_mode": {
    "name": "ipython",
    "version": 3
   },
   "file_extension": ".py",
   "mimetype": "text/x-python",
   "name": "python",
   "nbconvert_exporter": "python",
   "pygments_lexer": "ipython3",
   "version": "3.7.6"
  }
 },
 "nbformat": 4,
 "nbformat_minor": 4
}
